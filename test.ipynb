{
 "cells": [
  {
   "cell_type": "code",
   "execution_count": 1,
   "metadata": {},
   "outputs": [
    {
     "name": "stderr",
     "output_type": "stream",
     "text": [
      "/home/z.sun/miniconda3/envs/graph-wsi/lib/python3.10/site-packages/tqdm/auto.py:21: TqdmWarning: IProgress not found. Please update jupyter and ipywidgets. See https://ipywidgets.readthedocs.io/en/stable/user_install.html\n",
      "  from .autonotebook import tqdm as notebook_tqdm\n",
      "/home/z.sun/miniconda3/envs/graph-wsi/lib/python3.10/site-packages/torchvision/io/image.py:13: UserWarning: Failed to load image Python extension: /home/z.sun/miniconda3/envs/graph-wsi/lib/python3.10/site-packages/torchvision/image.so: undefined symbol: _ZN3c104impl8GPUTrace13gpuTraceStateE\n",
      "  warn(f\"Failed to load image Python extension: {e}\")\n"
     ]
    },
    {
     "name": "stdout",
     "output_type": "stream",
     "text": [
      "psimage tile cache size was set up to 300 tiles\n"
     ]
    }
   ],
   "source": [
    "import os \n",
    "os.environ['CUDA_VISIBLE_DEVICES'] = \"1\"\n",
    "import torch\n",
    "import matplotlib.pylab as plt \n",
    "import numpy as np\n",
    "from models.graph_hnet_pseudo import Graph_HNet\n",
    "from pathlib import Path\n",
    "from patch_samplers.full_samplers import (\n",
    "    FullImageDenseSampler,\n",
    "    FullImageRndSampler,\n",
    ")\n",
    "from typing import Callable\n",
    "\n",
    "import numpy as np\n",
    "from PIL import Image\n",
    "from psimage.image import PSImage\n",
    "from psimage.patches import Patch\n",
    "import torch\n",
    "from tqdm import tqdm\n",
    "\n",
    "from anno.utils import AnnoDescription"
   ]
  },
  {
   "cell_type": "code",
   "execution_count": 2,
   "metadata": {},
   "outputs": [
    {
     "name": "stdout",
     "output_type": "stream",
     "text": [
      "Image 45236 x 55776\n"
     ]
    }
   ],
   "source": [
    "img_path = Path(\n",
    "        \"/home/data_repository/PATH-DT-MSU_dev/WSS2_v2_psi/test/test_01.psi\"\n",
    "    )\n",
    "anno_dsc = AnnoDescription.with_known_colors(\n",
    "        {\n",
    "            \"AT\": (245, 119, 34),  # AT (orange)\n",
    "            \"BG\": (153, 255, 255),  # BG (cyan)\n",
    "            \"LP\": (64, 170, 72),  # LP (green)\n",
    "            \"MM\": (255, 0, 0),  # MM (red)\n",
    "            \"TUM\": (33, 67, 156),  # TUM (blue)\n",
    "            # \"DYS\": (128, 0, 255),  # TUM (violet)\n",
    "        }\n",
    "    )\n",
    "layer = 2\n",
    "downscale_vis = 8\n",
    "random_sampler = False\n",
    "patch_sampler = None\n",
    "if random_sampler:\n",
    "    patch_sampler = FullImageRndSampler(\n",
    "        img_path, layer=layer, patch_size=224, batch_size=64\n",
    "    )\n",
    "else:\n",
    "    patch_sampler = FullImageDenseSampler(\n",
    "        img_path, layer=layer, patch_size=224, batch_size=64, stride=224\n",
    "    )"
   ]
  },
  {
   "cell_type": "code",
   "execution_count": 3,
   "metadata": {},
   "outputs": [
    {
     "name": "stderr",
     "output_type": "stream",
     "text": [
      "ERROR:tornado.general:SEND Error: Host unreachable\n"
     ]
    }
   ],
   "source": [
    "for patches, progress in patch_sampler.generator():\n",
    "    break "
   ]
  },
  {
   "cell_type": "code",
   "execution_count": null,
   "metadata": {},
   "outputs": [],
   "source": []
  }
 ],
 "metadata": {
  "language_info": {
   "name": "python"
  }
 },
 "nbformat": 4,
 "nbformat_minor": 2
}
